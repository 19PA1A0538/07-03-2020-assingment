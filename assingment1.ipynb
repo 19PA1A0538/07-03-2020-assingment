{
  "nbformat": 4,
  "nbformat_minor": 0,
  "metadata": {
    "colab": {
      "name": "assingment.ipynb",
      "provenance": [],
      "authorship_tag": "ABX9TyNHdZ1BWmbOfgTnUPwAr1hG",
      "include_colab_link": true
    },
    "kernelspec": {
      "name": "python3",
      "display_name": "Python 3"
    }
  },
  "cells": [
    {
      "cell_type": "markdown",
      "metadata": {
        "id": "view-in-github",
        "colab_type": "text"
      },
      "source": [
        "<a href=\"https://colab.research.google.com/github/19PA1A0538/07-03-2020-assingment/blob/master/assingment1.ipynb\" target=\"_parent\"><img src=\"https://colab.research.google.com/assets/colab-badge.svg\" alt=\"Open In Colab\"/></a>"
      ]
    },
    {
      "cell_type": "code",
      "metadata": {
        "colab_type": "code",
        "id": "3fhjOkU09wzO",
        "colab": {}
      },
      "source": [
        ""
      ],
      "execution_count": 0,
      "outputs": []
    },
    {
      "cell_type": "code",
      "metadata": {
        "id": "I9JN8vXvqwca",
        "colab_type": "code",
        "colab": {}
      },
      "source": [
        "import pandas as pd # for handling data in the form of tables\n",
        "import numpy as np # For handling matrix\n",
        "from sklearn.model_selection import train_test_split # For spliting the data into train and test\n",
        "from sklearn.linear_model import LinearRegression # for using the model\n",
        "from sklearn import metrics \n",
        "import matplotlib.pyplot as plt\n",
        "from sklearn.linear_model import LinearRegression # for using the model\n",
        "import matplotlib.pyplot as plt # for plotting"
      ],
      "execution_count": 0,
      "outputs": []
    },
    {
      "cell_type": "code",
      "metadata": {
        "id": "ylS_Q2F0uSBf",
        "colab_type": "code",
        "colab": {
          "base_uri": "https://localhost:8080/",
          "height": 443
        },
        "outputId": "21ee36f1-35c8-4d3a-85c9-8a03fd6124c6"
      },
      "source": [
        "pla=pd.read_csv('students_placement_data.csv')#read the dataset\n",
        "pla"
      ],
      "execution_count": 24,
      "outputs": [
        {
          "output_type": "execute_result",
          "data": {
            "text/html": [
              "<div>\n",
              "<style scoped>\n",
              "    .dataframe tbody tr th:only-of-type {\n",
              "        vertical-align: middle;\n",
              "    }\n",
              "\n",
              "    .dataframe tbody tr th {\n",
              "        vertical-align: top;\n",
              "    }\n",
              "\n",
              "    .dataframe thead th {\n",
              "        text-align: right;\n",
              "    }\n",
              "</style>\n",
              "<table border=\"1\" class=\"dataframe\">\n",
              "  <thead>\n",
              "    <tr style=\"text-align: right;\">\n",
              "      <th></th>\n",
              "      <th>Roll No</th>\n",
              "      <th>Gender</th>\n",
              "      <th>Section</th>\n",
              "      <th>SSC Percentage</th>\n",
              "      <th>inter_Diploma_percentage</th>\n",
              "      <th>B.Tech_percentage</th>\n",
              "      <th>Backlogs</th>\n",
              "      <th>registered_for_ Placement_Training</th>\n",
              "      <th>placement status</th>\n",
              "    </tr>\n",
              "  </thead>\n",
              "  <tbody>\n",
              "    <tr>\n",
              "      <th>0</th>\n",
              "      <td>1</td>\n",
              "      <td>M</td>\n",
              "      <td>A</td>\n",
              "      <td>87.3</td>\n",
              "      <td>65.30</td>\n",
              "      <td>40.00</td>\n",
              "      <td>18</td>\n",
              "      <td>NO</td>\n",
              "      <td>Not placed</td>\n",
              "    </tr>\n",
              "    <tr>\n",
              "      <th>1</th>\n",
              "      <td>2</td>\n",
              "      <td>F</td>\n",
              "      <td>A</td>\n",
              "      <td>89.0</td>\n",
              "      <td>92.40</td>\n",
              "      <td>71.45</td>\n",
              "      <td>0</td>\n",
              "      <td>yes</td>\n",
              "      <td>Placed</td>\n",
              "    </tr>\n",
              "    <tr>\n",
              "      <th>2</th>\n",
              "      <td>3</td>\n",
              "      <td>F</td>\n",
              "      <td>A</td>\n",
              "      <td>67.0</td>\n",
              "      <td>68.00</td>\n",
              "      <td>45.26</td>\n",
              "      <td>13</td>\n",
              "      <td>yes</td>\n",
              "      <td>Not placed</td>\n",
              "    </tr>\n",
              "    <tr>\n",
              "      <th>3</th>\n",
              "      <td>4</td>\n",
              "      <td>M</td>\n",
              "      <td>A</td>\n",
              "      <td>71.0</td>\n",
              "      <td>70.40</td>\n",
              "      <td>36.47</td>\n",
              "      <td>17</td>\n",
              "      <td>yes</td>\n",
              "      <td>Not placed</td>\n",
              "    </tr>\n",
              "    <tr>\n",
              "      <th>4</th>\n",
              "      <td>5</td>\n",
              "      <td>M</td>\n",
              "      <td>A</td>\n",
              "      <td>67.0</td>\n",
              "      <td>65.50</td>\n",
              "      <td>42.52</td>\n",
              "      <td>17</td>\n",
              "      <td>yes</td>\n",
              "      <td>Not placed</td>\n",
              "    </tr>\n",
              "    <tr>\n",
              "      <th>...</th>\n",
              "      <td>...</td>\n",
              "      <td>...</td>\n",
              "      <td>...</td>\n",
              "      <td>...</td>\n",
              "      <td>...</td>\n",
              "      <td>...</td>\n",
              "      <td>...</td>\n",
              "      <td>...</td>\n",
              "      <td>...</td>\n",
              "    </tr>\n",
              "    <tr>\n",
              "      <th>112</th>\n",
              "      <td>113</td>\n",
              "      <td>M</td>\n",
              "      <td>B</td>\n",
              "      <td>81.1</td>\n",
              "      <td>78.60</td>\n",
              "      <td>35.84</td>\n",
              "      <td>16</td>\n",
              "      <td>NO</td>\n",
              "      <td>Not placed</td>\n",
              "    </tr>\n",
              "    <tr>\n",
              "      <th>113</th>\n",
              "      <td>114</td>\n",
              "      <td>M</td>\n",
              "      <td>B</td>\n",
              "      <td>81.3</td>\n",
              "      <td>85.12</td>\n",
              "      <td>68.50</td>\n",
              "      <td>0</td>\n",
              "      <td>NO</td>\n",
              "      <td>Not placed</td>\n",
              "    </tr>\n",
              "    <tr>\n",
              "      <th>114</th>\n",
              "      <td>115</td>\n",
              "      <td>M</td>\n",
              "      <td>B</td>\n",
              "      <td>83.5</td>\n",
              "      <td>89.90</td>\n",
              "      <td>76.30</td>\n",
              "      <td>0</td>\n",
              "      <td>NO</td>\n",
              "      <td>Not placed</td>\n",
              "    </tr>\n",
              "    <tr>\n",
              "      <th>115</th>\n",
              "      <td>116</td>\n",
              "      <td>M</td>\n",
              "      <td>B</td>\n",
              "      <td>85.5</td>\n",
              "      <td>90.63</td>\n",
              "      <td>74.50</td>\n",
              "      <td>0</td>\n",
              "      <td>NO</td>\n",
              "      <td>Not placed</td>\n",
              "    </tr>\n",
              "    <tr>\n",
              "      <th>116</th>\n",
              "      <td>117</td>\n",
              "      <td>M</td>\n",
              "      <td>B</td>\n",
              "      <td>80.0</td>\n",
              "      <td>83.33</td>\n",
              "      <td>65.53</td>\n",
              "      <td>0</td>\n",
              "      <td>NO</td>\n",
              "      <td>Not placed</td>\n",
              "    </tr>\n",
              "  </tbody>\n",
              "</table>\n",
              "<p>117 rows × 9 columns</p>\n",
              "</div>"
            ],
            "text/plain": [
              "     Roll No Gender  ... registered_for_ Placement_Training  placement status\n",
              "0          1      M  ...                                 NO        Not placed\n",
              "1          2      F  ...                                yes            Placed\n",
              "2          3      F  ...                                yes        Not placed\n",
              "3          4      M  ...                                yes        Not placed\n",
              "4          5      M  ...                                yes        Not placed\n",
              "..       ...    ...  ...                                ...               ...\n",
              "112      113      M  ...                                 NO        Not placed\n",
              "113      114      M  ...                                 NO        Not placed\n",
              "114      115      M  ...                                 NO        Not placed\n",
              "115      116      M  ...                                 NO        Not placed\n",
              "116      117      M  ...                                 NO        Not placed\n",
              "\n",
              "[117 rows x 9 columns]"
            ]
          },
          "metadata": {
            "tags": []
          },
          "execution_count": 24
        }
      ]
    },
    {
      "cell_type": "code",
      "metadata": {
        "id": "fSG9nWHkv20N",
        "colab_type": "code",
        "colab": {
          "base_uri": "https://localhost:8080/",
          "height": 372
        },
        "outputId": "f0875865-6a43-43a0-c433-35265768375e"
      },
      "source": [
        "X=pla['SSC Percentage'].values\n",
        "Y=pla['B.Tech_percentage'].values\n",
        "print(X)\n",
        "print(Y)\n"
      ],
      "execution_count": 57,
      "outputs": [
        {
          "output_type": "stream",
          "text": [
            "[87.3  89.   67.   71.   67.   81.26 71.   84.83 85.   79.9  82.33 91.\n",
            " 81.33 87.1  63.1  85.83 87.   93.66 80.66 87.83 83.83 77.5  80.3  90.5\n",
            " 86.16 74.5  87.1  55.66 64.3  72.   87.33 72.17 79.   76.   86.6  87.33\n",
            " 82.   91.   74.   83.5  88.16 75.33 81.1  86.   82.3  87.5  83.5  77.16\n",
            " 66.16 85.33 87.42 79.   82.9  72.   85.5  87.33 64.   72.5  90.3  90.66\n",
            " 81.83 85.33 77.33 79.6  86.   90.   83.66 86.66 85.   47.8  90.33 79.\n",
            " 81.83 88.16 75.5  78.6  78.   74.16 89.   70.   86.   84.84 83.66 89.\n",
            " 74.   87.33 50.66 82.   65.3  83.   60.83 83.16 88.1  72.   89.33 79.33\n",
            " 92.33 76.83 88.3  82.83 79.83 82.66 92.66 88.   68.16 84.1  74.5  83.\n",
            " 62.   81.   82.3  63.66 81.1  81.3  83.5  85.5  80.  ]\n",
            "[40.   71.45 45.26 36.47 42.52 62.2  33.77 61.02 53.   51.   71.49 49.67\n",
            " 54.74 74.96 50.55 75.96 70.01 85.39 71.65 74.34 76.9  73.01 68.3  70.3\n",
            " 54.18 55.82 61.   38.   64.36 69.6  74.25 58.   71.94 42.   65.7  68.7\n",
            " 75.42 72.68 51.   67.5  72.74 58.67 45.45 70.85 69.48 72.57 59.53 67.06\n",
            " 52.09 77.5  78.   55.49 52.   67.21 60.35 70.85 31.2  52.31 77.95 81.1\n",
            " 60.72 74.3  52.   49.68 78.6  72.4  72.47 75.13 52.56 44.73 80.47 59.\n",
            " 68.9  63.41 73.13 56.88 51.06 73.09 65.6  57.75 62.16 70.09 57.8  63.\n",
            " 76.02 69.48 60.53 42.   62.99 62.97 54.   68.7  61.68 51.   69.62 62.98\n",
            " 88.1  72.73 78.6  72.57 65.46 83.38 76.35 53.26 64.63 57.3  56.89 58.\n",
            " 55.7  42.17 54.16 61.   35.84 68.5  76.3  74.5  65.53]\n"
          ],
          "name": "stdout"
        }
      ]
    },
    {
      "cell_type": "code",
      "metadata": {
        "id": "qPKr-JXGyyty",
        "colab_type": "code",
        "colab": {
          "base_uri": "https://localhost:8080/",
          "height": 284
        },
        "outputId": "0d32eff1-0e77-46d3-d074-9b4f47914985"
      },
      "source": [
        "plt.scatter(X_test,Y_test,color='red')\n"
      ],
      "execution_count": 46,
      "outputs": [
        {
          "output_type": "execute_result",
          "data": {
            "text/plain": [
              "<matplotlib.collections.PathCollection at 0x7f17abc0b7b8>"
            ]
          },
          "metadata": {
            "tags": []
          },
          "execution_count": 46
        },
        {
          "output_type": "display_data",
          "data": {
            "image/png": "[encoded data removed]",
            "text/plain": [
              "<Figure size 432x288 with 1 Axes>"
            ]
          },
          "metadata": {
            "tags": []
          }
        }
      ]
    },
    {
      "cell_type": "code",
      "metadata": {
        "id": "FPNsCusD3gVO",
        "colab_type": "code",
        "colab": {
          "base_uri": "https://localhost:8080/",
          "height": 406
        },
        "outputId": "9a0276bc-e068-4745-fd46-3b26fa5e35fe"
      },
      "source": [
        "a=pla[['SSC Percentage','B.Tech_percentage']]\n",
        "a"
      ],
      "execution_count": 59,
      "outputs": [
        {
          "output_type": "execute_result",
          "data": {
            "text/html": [
              "<div>\n",
              "<style scoped>\n",
              "    .dataframe tbody tr th:only-of-type {\n",
              "        vertical-align: middle;\n",
              "    }\n",
              "\n",
              "    .dataframe tbody tr th {\n",
              "        vertical-align: top;\n",
              "    }\n",
              "\n",
              "    .dataframe thead th {\n",
              "        text-align: right;\n",
              "    }\n",
              "</style>\n",
              "<table border=\"1\" class=\"dataframe\">\n",
              "  <thead>\n",
              "    <tr style=\"text-align: right;\">\n",
              "      <th></th>\n",
              "      <th>SSC Percentage</th>\n",
              "      <th>B.Tech_percentage</th>\n",
              "    </tr>\n",
              "  </thead>\n",
              "  <tbody>\n",
              "    <tr>\n",
              "      <th>0</th>\n",
              "      <td>87.3</td>\n",
              "      <td>40.00</td>\n",
              "    </tr>\n",
              "    <tr>\n",
              "      <th>1</th>\n",
              "      <td>89.0</td>\n",
              "      <td>71.45</td>\n",
              "    </tr>\n",
              "    <tr>\n",
              "      <th>2</th>\n",
              "      <td>67.0</td>\n",
              "      <td>45.26</td>\n",
              "    </tr>\n",
              "    <tr>\n",
              "      <th>3</th>\n",
              "      <td>71.0</td>\n",
              "      <td>36.47</td>\n",
              "    </tr>\n",
              "    <tr>\n",
              "      <th>4</th>\n",
              "      <td>67.0</td>\n",
              "      <td>42.52</td>\n",
              "    </tr>\n",
              "    <tr>\n",
              "      <th>...</th>\n",
              "      <td>...</td>\n",
              "      <td>...</td>\n",
              "    </tr>\n",
              "    <tr>\n",
              "      <th>112</th>\n",
              "      <td>81.1</td>\n",
              "      <td>35.84</td>\n",
              "    </tr>\n",
              "    <tr>\n",
              "      <th>113</th>\n",
              "      <td>81.3</td>\n",
              "      <td>68.50</td>\n",
              "    </tr>\n",
              "    <tr>\n",
              "      <th>114</th>\n",
              "      <td>83.5</td>\n",
              "      <td>76.30</td>\n",
              "    </tr>\n",
              "    <tr>\n",
              "      <th>115</th>\n",
              "      <td>85.5</td>\n",
              "      <td>74.50</td>\n",
              "    </tr>\n",
              "    <tr>\n",
              "      <th>116</th>\n",
              "      <td>80.0</td>\n",
              "      <td>65.53</td>\n",
              "    </tr>\n",
              "  </tbody>\n",
              "</table>\n",
              "<p>117 rows × 2 columns</p>\n",
              "</div>"
            ],
            "text/plain": [
              "     SSC Percentage  B.Tech_percentage\n",
              "0              87.3              40.00\n",
              "1              89.0              71.45\n",
              "2              67.0              45.26\n",
              "3              71.0              36.47\n",
              "4              67.0              42.52\n",
              "..              ...                ...\n",
              "112            81.1              35.84\n",
              "113            81.3              68.50\n",
              "114            83.5              76.30\n",
              "115            85.5              74.50\n",
              "116            80.0              65.53\n",
              "\n",
              "[117 rows x 2 columns]"
            ]
          },
          "metadata": {
            "tags": []
          },
          "execution_count": 59
        }
      ]
    },
    {
      "cell_type": "code",
      "metadata": {
        "id": "xUIUUTL74QaN",
        "colab_type": "code",
        "colab": {
          "base_uri": "https://localhost:8080/",
          "height": 406
        },
        "outputId": "8327aa35-d339-47ac-c333-ed0777b92a54"
      },
      "source": [
        "b=pla[['inter_Diploma_percentage','B.Tech_percentage']]\n",
        "b"
      ],
      "execution_count": 67,
      "outputs": [
        {
          "output_type": "execute_result",
          "data": {
            "text/html": [
              "<div>\n",
              "<style scoped>\n",
              "    .dataframe tbody tr th:only-of-type {\n",
              "        vertical-align: middle;\n",
              "    }\n",
              "\n",
              "    .dataframe tbody tr th {\n",
              "        vertical-align: top;\n",
              "    }\n",
              "\n",
              "    .dataframe thead th {\n",
              "        text-align: right;\n",
              "    }\n",
              "</style>\n",
              "<table border=\"1\" class=\"dataframe\">\n",
              "  <thead>\n",
              "    <tr style=\"text-align: right;\">\n",
              "      <th></th>\n",
              "      <th>inter_Diploma_percentage</th>\n",
              "      <th>B.Tech_percentage</th>\n",
              "    </tr>\n",
              "  </thead>\n",
              "  <tbody>\n",
              "    <tr>\n",
              "      <th>0</th>\n",
              "      <td>65.30</td>\n",
              "      <td>40.00</td>\n",
              "    </tr>\n",
              "    <tr>\n",
              "      <th>1</th>\n",
              "      <td>92.40</td>\n",
              "      <td>71.45</td>\n",
              "    </tr>\n",
              "    <tr>\n",
              "      <th>2</th>\n",
              "      <td>68.00</td>\n",
              "      <td>45.26</td>\n",
              "    </tr>\n",
              "    <tr>\n",
              "      <th>3</th>\n",
              "      <td>70.40</td>\n",
              "      <td>36.47</td>\n",
              "    </tr>\n",
              "    <tr>\n",
              "      <th>4</th>\n",
              "      <td>65.50</td>\n",
              "      <td>42.52</td>\n",
              "    </tr>\n",
              "    <tr>\n",
              "      <th>...</th>\n",
              "      <td>...</td>\n",
              "      <td>...</td>\n",
              "    </tr>\n",
              "    <tr>\n",
              "      <th>112</th>\n",
              "      <td>78.60</td>\n",
              "      <td>35.84</td>\n",
              "    </tr>\n",
              "    <tr>\n",
              "      <th>113</th>\n",
              "      <td>85.12</td>\n",
              "      <td>68.50</td>\n",
              "    </tr>\n",
              "    <tr>\n",
              "      <th>114</th>\n",
              "      <td>89.90</td>\n",
              "      <td>76.30</td>\n",
              "    </tr>\n",
              "    <tr>\n",
              "      <th>115</th>\n",
              "      <td>90.63</td>\n",
              "      <td>74.50</td>\n",
              "    </tr>\n",
              "    <tr>\n",
              "      <th>116</th>\n",
              "      <td>83.33</td>\n",
              "      <td>65.53</td>\n",
              "    </tr>\n",
              "  </tbody>\n",
              "</table>\n",
              "<p>117 rows × 2 columns</p>\n",
              "</div>"
            ],
            "text/plain": [
              "     inter_Diploma_percentage  B.Tech_percentage\n",
              "0                       65.30              40.00\n",
              "1                       92.40              71.45\n",
              "2                       68.00              45.26\n",
              "3                       70.40              36.47\n",
              "4                       65.50              42.52\n",
              "..                        ...                ...\n",
              "112                     78.60              35.84\n",
              "113                     85.12              68.50\n",
              "114                     89.90              76.30\n",
              "115                     90.63              74.50\n",
              "116                     83.33              65.53\n",
              "\n",
              "[117 rows x 2 columns]"
            ]
          },
          "metadata": {
            "tags": []
          },
          "execution_count": 67
        }
      ]
    },
    {
      "cell_type": "code",
      "metadata": {
        "id": "ZjsvFPvA2KQI",
        "colab_type": "code",
        "colab": {}
      },
      "source": [
        "X=pla['SSC Percentage'].values.reshape(-1,1)\n",
        "Y=pla['B.Tech_percentage'].values.reshape(-1,1)"
      ],
      "execution_count": 0,
      "outputs": []
    },
    {
      "cell_type": "code",
      "metadata": {
        "id": "3t_LWXPA4wg0",
        "colab_type": "code",
        "colab": {}
      },
      "source": [
        ""
      ],
      "execution_count": 0,
      "outputs": []
    },
    {
      "cell_type": "code",
      "metadata": {
        "colab_type": "code",
        "id": "u5Q69DRK7ex5",
        "colab": {}
      },
      "source": [
        "# Now divide the data into train and test. \n",
        "X_train,X_test,Y_train,Y_test=train_test_split(X,Y,test_size=0.2)"
      ],
      "execution_count": 0,
      "outputs": []
    },
    {
      "cell_type": "code",
      "metadata": {
        "id": "MeKt8bcm04Dx",
        "colab_type": "code",
        "colab": {
          "base_uri": "https://localhost:8080/",
          "height": 34
        },
        "outputId": "fed4b9c2-89cd-4928-a56f-146df87be71c"
      },
      "source": [
        "model = LinearRegression()  \n",
        "model.fit(X_train,Y_train)"
      ],
      "execution_count": 111,
      "outputs": [
        {
          "output_type": "execute_result",
          "data": {
            "text/plain": [
              "LinearRegression(copy_X=True, fit_intercept=True, n_jobs=None, normalize=False)"
            ]
          },
          "metadata": {
            "tags": []
          },
          "execution_count": 111
        }
      ]
    },
    {
      "cell_type": "code",
      "metadata": {
        "colab_type": "code",
        "id": "NNggj6ig04gR",
        "colab": {
          "base_uri": "https://localhost:8080/",
          "height": 52
        },
        "outputId": "52caf3a2-433c-4dc2-ee4c-c7c88a924ad4"
      },
      "source": [
        "# Now divide the data into train and test. \n",
        "X_train,Xtest,Y_train,Y_test=train_test_split(X,Y,test_size=0.2)\n",
        "print(model.intercept_)  # This is our 'c'\n",
        "print(model.coef_) # This is our 'm'"
      ],
      "execution_count": 112,
      "outputs": [
        {
          "output_type": "stream",
          "text": [
            "[8.36534919]\n",
            "[[0.67336809]]\n"
          ],
          "name": "stdout"
        }
      ]
    },
    {
      "cell_type": "code",
      "metadata": {
        "id": "0YC8uQKH8Aj6",
        "colab_type": "code",
        "colab": {
          "base_uri": "https://localhost:8080/",
          "height": 443
        },
        "outputId": "72a3b38c-7e93-4ac3-961f-14bc75156945"
      },
      "source": [
        "predicted_percentage=model.predict(X_test) \n",
        "print(predicted_percentage)"
      ],
      "execution_count": 113,
      "outputs": [
        {
          "output_type": "stream",
          "text": [
            "[[56.84785178]\n",
            " [59.54132415]\n",
            " [68.29510934]\n",
            " [63.13037608]\n",
            " [65.82384844]\n",
            " [64.36263968]\n",
            " [54.26211831]\n",
            " [62.67921946]\n",
            " [69.41290037]\n",
            " [68.96847743]\n",
            " [60.10021967]\n",
            " [56.17448369]\n",
            " [52.33628557]\n",
            " [64.14042821]\n",
            " [64.59158484]\n",
            " [67.2850572 ]\n",
            " [69.64184552]\n",
            " [60.32243114]\n",
            " [66.27500506]\n",
            " [62.43680694]\n",
            " [67.17058463]\n",
            " [64.25490079]\n",
            " [62.90816461]\n",
            " [65.82384844]]\n"
          ],
          "name": "stdout"
        }
      ]
    },
    {
      "cell_type": "code",
      "metadata": {
        "id": "4HUTEO1p8MA6",
        "colab_type": "code",
        "colab": {
          "base_uri": "https://localhost:8080/",
          "height": 197
        },
        "outputId": "7e0b9615-d13f-483a-ea60-cbff4c25b44d"
      },
      "source": [
        "Actual_predicted=pd.DataFrame({'predicted':predicted_percentage.flatten(), 'Actual':Y_test.flatten()})\n",
        "Actual_predicted.head()"
      ],
      "execution_count": 97,
      "outputs": [
        {
          "output_type": "execute_result",
          "data": {
            "text/html": [
              "<div>\n",
              "<style scoped>\n",
              "    .dataframe tbody tr th:only-of-type {\n",
              "        vertical-align: middle;\n",
              "    }\n",
              "\n",
              "    .dataframe tbody tr th {\n",
              "        vertical-align: top;\n",
              "    }\n",
              "\n",
              "    .dataframe thead th {\n",
              "        text-align: right;\n",
              "    }\n",
              "</style>\n",
              "<table border=\"1\" class=\"dataframe\">\n",
              "  <thead>\n",
              "    <tr style=\"text-align: right;\">\n",
              "      <th></th>\n",
              "      <th>predicted</th>\n",
              "      <th>Actual</th>\n",
              "    </tr>\n",
              "  </thead>\n",
              "  <tbody>\n",
              "    <tr>\n",
              "      <th>0</th>\n",
              "      <td>57.287912</td>\n",
              "      <td>51.00</td>\n",
              "    </tr>\n",
              "    <tr>\n",
              "      <th>1</th>\n",
              "      <td>63.110390</td>\n",
              "      <td>76.30</td>\n",
              "    </tr>\n",
              "    <tr>\n",
              "      <th>2</th>\n",
              "      <td>65.898507</td>\n",
              "      <td>65.60</td>\n",
              "    </tr>\n",
              "    <tr>\n",
              "      <th>3</th>\n",
              "      <td>58.876583</td>\n",
              "      <td>80.47</td>\n",
              "    </tr>\n",
              "    <tr>\n",
              "      <th>4</th>\n",
              "      <td>66.819936</td>\n",
              "      <td>65.70</td>\n",
              "    </tr>\n",
              "  </tbody>\n",
              "</table>\n",
              "</div>"
            ],
            "text/plain": [
              "   predicted  Actual\n",
              "0  57.287912   51.00\n",
              "1  63.110390   76.30\n",
              "2  65.898507   65.60\n",
              "3  58.876583   80.47\n",
              "4  66.819936   65.70"
            ]
          },
          "metadata": {
            "tags": []
          },
          "execution_count": 97
        }
      ]
    },
    {
      "cell_type": "code",
      "metadata": {
        "id": "ZtOVmy_t8Zfa",
        "colab_type": "code",
        "colab": {
          "base_uri": "https://localhost:8080/",
          "height": 282
        },
        "outputId": "5dca4f9d-51bf-4a65-cdd1-0b189973d5c5"
      },
      "source": [
        "\n",
        "plt.plot(X_test,predicted_percentage)"
      ],
      "execution_count": 119,
      "outputs": [
        {
          "output_type": "execute_result",
          "data": {
            "text/plain": [
              "[<matplotlib.lines.Line2D at 0x7f17ae612c50>]"
            ]
          },
          "metadata": {
            "tags": []
          },
          "execution_count": 119
        },
        {
          "output_type": "display_data",
          "data": {
            "image/png": "[encoded data removed]",
            "text/plain": [
              "<Figure size 432x288 with 1 Axes>"
            ]
          },
          "metadata": {
            "tags": []
          }
        }
      ]
    },
    {
      "cell_type": "code",
      "metadata": {
        "id": "dMk94LNg8jGa",
        "colab_type": "code",
        "colab": {
          "base_uri": "https://localhost:8080/",
          "height": 34
        },
        "outputId": "07c95ee0-ba52-4058-e403-50426729cd19"
      },
      "source": [
        "print('R2 error:',metrics.r2_score(Y_test, predicted_percentage))"
      ],
      "execution_count": 88,
      "outputs": [
        {
          "output_type": "stream",
          "text": [
            "R2 error: -0.3653990624325334\n"
          ],
          "name": "stdout"
        }
      ]
    },
    {
      "cell_type": "code",
      "metadata": {
        "colab_type": "code",
        "id": "vE7Vur_l-ddA",
        "colab": {}
      },
      "source": [
        "A=pla['inter_Diploma_percentage'].values.reshape(-1,1)\n",
        "B=pla['B.Tech_percentage'].values.reshape(-1,1)"
      ],
      "execution_count": 0,
      "outputs": []
    },
    {
      "cell_type": "code",
      "metadata": {
        "colab_type": "code",
        "id": "iTqjoPrg-7H5",
        "colab": {}
      },
      "source": [
        "# Now divide the data into train and test. \n",
        "A_train,A_test,B_train,B_test=train_test_split(A,B,test_size=0.2)"
      ],
      "execution_count": 0,
      "outputs": []
    },
    {
      "cell_type": "code",
      "metadata": {
        "colab_type": "code",
        "outputId": "bd16422b-ba53-42ea-8071-b929f29a5c90",
        "id": "z_vOcjAX_A1W",
        "colab": {
          "base_uri": "https://localhost:8080/",
          "height": 34
        }
      },
      "source": [
        "model = LinearRegression()  \n",
        "model.fit(X_train,Y_train)"
      ],
      "execution_count": 104,
      "outputs": [
        {
          "output_type": "execute_result",
          "data": {
            "text/plain": [
              "LinearRegression(copy_X=True, fit_intercept=True, n_jobs=None, normalize=False)"
            ]
          },
          "metadata": {
            "tags": []
          },
          "execution_count": 104
        }
      ]
    },
    {
      "cell_type": "code",
      "metadata": {
        "colab_type": "code",
        "outputId": "6479173a-dc82-410b-a75d-30761edbaa72",
        "id": "1a1cha61_Ih8",
        "colab": {
          "base_uri": "https://localhost:8080/",
          "height": 52
        }
      },
      "source": [
        "# Now divide the data into train and test. \n",
        "A_train,A_test,B_train,B_test=train_test_split(A,B,test_size=0.2)\n",
        "print(model.intercept_)  # This is our 'c'\n",
        "print(model.coef_) # This is our 'm'"
      ],
      "execution_count": 105,
      "outputs": [
        {
          "output_type": "stream",
          "text": [
            "[10.27855739]\n",
            "[[0.66292759]]\n"
          ],
          "name": "stdout"
        }
      ]
    },
    {
      "cell_type": "code",
      "metadata": {
        "id": "ZwvRDcDr_X9v",
        "colab_type": "code",
        "colab": {
          "base_uri": "https://localhost:8080/",
          "height": 443
        },
        "outputId": "f6dff63b-a9a6-4043-bbe8-d7665b22bea2"
      },
      "source": [
        "predicted_percentage=model.predict(A_test) \n",
        "print(predicted_percentage)"
      ],
      "execution_count": 106,
      "outputs": [
        {
          "output_type": "stream",
          "text": [
            "[[47.86655192]\n",
            " [69.0802349 ]\n",
            " [70.20721181]\n",
            " [60.32959067]\n",
            " [50.78343333]\n",
            " [57.28675302]\n",
            " [65.30154762]\n",
            " [69.94204077]\n",
            " [70.20721181]\n",
            " [72.79262942]\n",
            " [69.01394214]\n",
            " [66.03076797]\n",
            " [66.29593901]\n",
            " [54.76099889]\n",
            " [58.67227169]\n",
            " [70.27350457]\n",
            " [69.67686973]\n",
            " [68.88135662]\n",
            " [65.30154762]\n",
            " [72.72633666]\n",
            " [55.35763372]\n",
            " [63.97569243]\n",
            " [62.38466621]\n",
            " [73.05780046]]\n"
          ],
          "name": "stdout"
        }
      ]
    },
    {
      "cell_type": "code",
      "metadata": {
        "colab_type": "code",
        "outputId": "c354e24d-12cf-4559-ad89-c568d0821327",
        "id": "Y_q49jep_jtR",
        "colab": {
          "base_uri": "https://localhost:8080/",
          "height": 197
        }
      },
      "source": [
        "Actual_predicted=pd.DataFrame({'predicted':predicted_percentage.flatten(), 'Actual':B_test.flatten()})\n",
        "Actual_predicted.head()"
      ],
      "execution_count": 107,
      "outputs": [
        {
          "output_type": "execute_result",
          "data": {
            "text/html": [
              "<div>\n",
              "<style scoped>\n",
              "    .dataframe tbody tr th:only-of-type {\n",
              "        vertical-align: middle;\n",
              "    }\n",
              "\n",
              "    .dataframe tbody tr th {\n",
              "        vertical-align: top;\n",
              "    }\n",
              "\n",
              "    .dataframe thead th {\n",
              "        text-align: right;\n",
              "    }\n",
              "</style>\n",
              "<table border=\"1\" class=\"dataframe\">\n",
              "  <thead>\n",
              "    <tr style=\"text-align: right;\">\n",
              "      <th></th>\n",
              "      <th>predicted</th>\n",
              "      <th>Actual</th>\n",
              "    </tr>\n",
              "  </thead>\n",
              "  <tbody>\n",
              "    <tr>\n",
              "      <th>0</th>\n",
              "      <td>47.866552</td>\n",
              "      <td>31.20</td>\n",
              "    </tr>\n",
              "    <tr>\n",
              "      <th>1</th>\n",
              "      <td>69.080235</td>\n",
              "      <td>74.96</td>\n",
              "    </tr>\n",
              "    <tr>\n",
              "      <th>2</th>\n",
              "      <td>70.207212</td>\n",
              "      <td>70.30</td>\n",
              "    </tr>\n",
              "    <tr>\n",
              "      <th>3</th>\n",
              "      <td>60.329591</td>\n",
              "      <td>51.00</td>\n",
              "    </tr>\n",
              "    <tr>\n",
              "      <th>4</th>\n",
              "      <td>50.783433</td>\n",
              "      <td>62.98</td>\n",
              "    </tr>\n",
              "  </tbody>\n",
              "</table>\n",
              "</div>"
            ],
            "text/plain": [
              "   predicted  Actual\n",
              "0  47.866552   31.20\n",
              "1  69.080235   74.96\n",
              "2  70.207212   70.30\n",
              "3  60.329591   51.00\n",
              "4  50.783433   62.98"
            ]
          },
          "metadata": {
            "tags": []
          },
          "execution_count": 107
        }
      ]
    },
    {
      "cell_type": "code",
      "metadata": {
        "colab_type": "code",
        "outputId": "ff595912-bf4b-43d8-df19-a7d5fe6a138e",
        "id": "dcRtKF9d_vmF",
        "colab": {
          "base_uri": "https://localhost:8080/",
          "height": 282
        }
      },
      "source": [
        "plt.scatter(A_test,B_test,color='red')\n",
        "plt.plot(A_test,predicted_percentage)"
      ],
      "execution_count": 108,
      "outputs": [
        {
          "output_type": "execute_result",
          "data": {
            "text/plain": [
              "[<matplotlib.lines.Line2D at 0x7f17aba20400>]"
            ]
          },
          "metadata": {
            "tags": []
          },
          "execution_count": 108
        },
        {
          "output_type": "display_data",
          "data": {
            "image/png": "[encoded data removed]",
            "text/plain": [
              "<Figure size 432x288 with 1 Axes>"
            ]
          },
          "metadata": {
            "tags": []
          }
        }
      ]
    },
    {
      "cell_type": "code",
      "metadata": {
        "colab_type": "code",
        "outputId": "1318f0d9-6520-4227-bdad-a980a5cbcd5d",
        "id": "5rH7Ic3eA9Kl",
        "colab": {
          "base_uri": "https://localhost:8080/",
          "height": 34
        }
      },
      "source": [
        "print('R2 error:',metrics.r2_score(B_test, predicted_percentage))"
      ],
      "execution_count": 118,
      "outputs": [
        {
          "output_type": "stream",
          "text": [
            "R2 error: -0.057817189199140806\n"
          ],
          "name": "stdout"
        }
      ]
    },
    {
      "cell_type": "markdown",
      "metadata": {
        "id": "4GxC5vtuqxTw",
        "colab_type": "text"
      },
      "source": [
        "1)Bias error :Bias are the simplifying assumptions made by a model to make the target function easier to learn.\n",
        "low bias:suggests less assumptions about the form of the target function.\n",
        "high bias:suggests more assumptions about the form of the target function.\n",
        "\n",
        "variance error: variance is the amoount that estimate target func will change if different training data was used.\n",
        "low variance: suggests small changes to estimate of target func with the changes to training dataset.\n",
        "high variance: suggests large changes to estimate of target func with changes to training dataset.\n",
        "\n",
        "2)A dataset was first divided into two sets i.e, train,test.\n",
        "we will train the model on training datset and test that model with test dataset.\n",
        "K-fold cross-validation:\n",
        "In this process, we split the dataset into K-equal partitions or folds. Then use one of the fold as the testing set and union of remaining sets as training set. Then we calculate the testing accuracy of our model. We repeat the process of choosing train and test from different folds, and calculating training error K-times. Then we use average training accuracy as the estimate.\n"
      ]
    },
    {
      "cell_type": "code",
      "metadata": {
        "id": "vDlUWRIQ1YkU",
        "colab_type": "code",
        "colab": {}
      },
      "source": [
        ""
      ],
      "execution_count": 0,
      "outputs": []
    }
  ]
}